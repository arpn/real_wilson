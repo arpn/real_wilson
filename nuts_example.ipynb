{
 "cells": [
  {
   "cell_type": "markdown",
   "id": "bc3bd8c6-bbcf-44fa-b289-a66341fc7620",
   "metadata": {},
   "source": [
    "# Example of using NUTS"
   ]
  },
  {
   "cell_type": "code",
   "execution_count": 1,
   "id": "fdbd687e-2d49-4711-9774-c1598789127c",
   "metadata": {
    "execution": {
     "iopub.execute_input": "2022-08-23T06:15:20.920587Z",
     "iopub.status.busy": "2022-08-23T06:15:20.920275Z",
     "iopub.status.idle": "2022-08-23T06:15:22.169466Z",
     "shell.execute_reply": "2022-08-23T06:15:22.168955Z",
     "shell.execute_reply.started": "2022-08-23T06:15:20.920523Z"
    },
    "tags": []
   },
   "outputs": [],
   "source": [
    "import torch\n",
    "import numpy as np\n",
    "import matplotlib.pyplot as plt\n",
    "from nuts_pytorch import nuts6"
   ]
  },
  {
   "cell_type": "markdown",
   "id": "17164105-25e7-4727-abcf-9d7cb5ffc115",
   "metadata": {},
   "source": [
    "## Toy example\n",
    "\n",
    "As an example let's choose the following two-dimensional target distribution\n",
    "$$ p(x, y) = \\exp\\left( -20(y - x^2 - x - 1)^2 - x^2 \\right). $$\n",
    "This is a notoriously difficult distribution to sample, often used as a benchmark for sampling methods. For example, with plain Markov Chain Monte Carlo you'd have a bad time sampling this.\n",
    "\n",
    "The `nuts6` function needs the logarithm of the target probability density function (PDF)."
   ]
  },
  {
   "cell_type": "code",
   "execution_count": 2,
   "id": "d07f7c41-c8e5-4da8-86d0-cfbd806efd0a",
   "metadata": {
    "execution": {
     "iopub.execute_input": "2022-08-23T06:15:22.170398Z",
     "iopub.status.busy": "2022-08-23T06:15:22.170243Z",
     "iopub.status.idle": "2022-08-23T06:15:22.173798Z",
     "shell.execute_reply": "2022-08-23T06:15:22.173102Z",
     "shell.execute_reply.started": "2022-08-23T06:15:22.170386Z"
    },
    "tags": []
   },
   "outputs": [],
   "source": [
    "def target(theta):\n",
    "    '''\n",
    "    Arguments:\n",
    "    - theta: variables of the PDF\n",
    "    Returns:\n",
    "    Log of the target PDF\n",
    "    '''\n",
    "    x, y = theta[0], theta[1]\n",
    "    log_p = -20 * (y - x**2 - x - 1)**2 - x**2\n",
    "    return log_p"
   ]
  },
  {
   "cell_type": "markdown",
   "id": "cef1e973-e409-47d1-b5c2-4b9632316d8e",
   "metadata": {},
   "source": [
    "Draw $1000$ samples from this distribution"
   ]
  },
  {
   "cell_type": "code",
   "execution_count": 3,
   "id": "7d0ca7d1-0995-4abb-a13f-6cc3110b03ac",
   "metadata": {
    "execution": {
     "iopub.execute_input": "2022-08-23T06:15:22.520520Z",
     "iopub.status.busy": "2022-08-23T06:15:22.520349Z",
     "iopub.status.idle": "2022-08-23T06:15:40.291762Z",
     "shell.execute_reply": "2022-08-23T06:15:40.291336Z",
     "shell.execute_reply.started": "2022-08-23T06:15:22.520508Z"
    },
    "tags": []
   },
   "outputs": [
    {
     "name": "stdout",
     "output_type": "stream",
     "text": [
      "find_reasonable_epsilon = 0.25\n"
     ]
    },
    {
     "name": "stderr",
     "output_type": "stream",
     "text": [
      "100%|█████████████████████████████████████████████████████████████████████████████████████████████████████████████████████████████████████████████████████████████████████████████████████████████████████████████████████████████████████████████| 19999/19999 [00:17<00:00, 1153.73it/s]\n"
     ]
    },
    {
     "name": "stdout",
     "output_type": "stream",
     "text": [
      "Final epsilon = 0.1829909139826994\n",
      "samples.shape = torch.Size([10000, 2])\n"
     ]
    },
    {
     "data": {
      "text/plain": [
       "Text(0, 0.5, 'y')"
      ]
     },
     "execution_count": 3,
     "metadata": {},
     "output_type": "execute_result"
    },
    {
     "data": {
      "image/png": "[encoded data removed]",
      "text/plain": [
       "<Figure size 432x288 with 1 Axes>"
      ]
     },
     "metadata": {
      "needs_background": "light"
     },
     "output_type": "display_data"
    }
   ],
   "source": [
    "theta_0 = torch.tensor([0, 1]) # Initial point for the sampler\n",
    "samples = nuts6(target, 10000, 10000, theta_0)\n",
    "print('samples.shape =', samples.shape)\n",
    "plt.scatter(*samples.T, s=1)\n",
    "plt.xlabel('x')\n",
    "plt.ylabel('y')"
   ]
  },
  {
   "cell_type": "markdown",
   "id": "0434da14-4fba-4a3d-a299-f0fa7672390e",
   "metadata": {},
   "source": [
    "Now if you would plot the PDF you'd see that the samples cover the distribution nicely. Now we can compute, for example, the mean of the variables"
   ]
  },
  {
   "cell_type": "code",
   "execution_count": 4,
   "id": "7c9fe029-ea7d-4c41-a21a-6d43b7c1b9c8",
   "metadata": {
    "execution": {
     "iopub.execute_input": "2022-08-23T06:15:40.292636Z",
     "iopub.status.busy": "2022-08-23T06:15:40.292491Z",
     "iopub.status.idle": "2022-08-23T06:15:40.296408Z",
     "shell.execute_reply": "2022-08-23T06:15:40.295933Z",
     "shell.execute_reply.started": "2022-08-23T06:15:40.292624Z"
    },
    "tags": []
   },
   "outputs": [
    {
     "data": {
      "text/plain": [
       "tensor([0.0390, 1.6400], dtype=torch.float64)"
      ]
     },
     "execution_count": 4,
     "metadata": {},
     "output_type": "execute_result"
    }
   ],
   "source": [
    "samples.mean(axis=0)"
   ]
  },
  {
   "cell_type": "markdown",
   "id": "5ea9a278-4ef1-466e-811e-41aaf5353503",
   "metadata": {},
   "source": [
    "These would be the approximations to the true means $E[X]$ and $E[Y]$ if $(X,Y)$ followed the distribution $p(x,y)$."
   ]
  },
  {
   "cell_type": "markdown",
   "id": "a9d17aac-9479-418e-a09e-a0ba2d34b6cf",
   "metadata": {},
   "source": [
    "## Wilson loop model example\n",
    "\n",
    "The data points are $\\{(L_i, V_i, \\sigma_i)\\}$, $i=1\\ldots n$ where  \n",
    "$L_i = $ distance between quarks (for $i$th data point)  \n",
    "$V_i = $ (regularized) quark potential for separation $L_i$  \n",
    "$\\sigma_i = $ the uncertainty/standard deviation of the $i$th measurement  \n",
    "In the toy data case, these are provided by the `AdSBHDataset`-class:"
   ]
  },
  {
   "cell_type": "code",
   "execution_count": 5,
   "id": "865c3932-1471-4672-bd6e-52e66122c37e",
   "metadata": {
    "execution": {
     "iopub.execute_input": "2022-08-23T06:15:44.968572Z",
     "iopub.status.busy": "2022-08-23T06:15:44.968373Z",
     "iopub.status.idle": "2022-08-23T06:15:45.226988Z",
     "shell.execute_reply": "2022-08-23T06:15:45.226582Z",
     "shell.execute_reply.started": "2022-08-23T06:15:44.968557Z"
    },
    "tags": []
   },
   "outputs": [],
   "source": [
    "import torch.nn as nn\n",
    "from dataset import AdSBHDataset\n",
    "from model import *\n",
    "from constants import dtype"
   ]
  },
  {
   "cell_type": "code",
   "execution_count": 6,
   "id": "018ae6c9-ca85-4013-966c-e74a3548c376",
   "metadata": {
    "execution": {
     "iopub.execute_input": "2022-08-23T06:15:45.882665Z",
     "iopub.status.busy": "2022-08-23T06:15:45.882367Z",
     "iopub.status.idle": "2022-08-23T06:15:46.121573Z",
     "shell.execute_reply": "2022-08-23T06:15:46.121186Z",
     "shell.execute_reply.started": "2022-08-23T06:15:45.882646Z"
    },
    "tags": []
   },
   "outputs": [
    {
     "name": "stdout",
     "output_type": "stream",
     "text": [
      "L = tensor([0.3236, 0.4967, 0.1587, 0.3500, 0.1165, 0.6073, 0.3330, 0.4897, 0.5797,\n",
      "        0.5321, 0.2527, 0.0690, 0.2473, 0.3183, 0.3690, 0.3107, 0.5081, 0.1946,\n",
      "        0.4619, 0.4419], dtype=torch.float64)\n",
      "V = tensor([  0.0000,   0.0000,  -2.8434,   0.0000,  -6.0750,   0.0000,   0.0000,\n",
      "          0.0000,   0.0000,   0.0000,   0.0000, -14.5239,   0.0000,   0.0000,\n",
      "          0.0000,   0.0000,   0.0000,  -1.2471,   0.0000,   0.0000],\n",
      "       dtype=torch.float64)\n",
      "sigma = tensor([0.9543, 0.9485, 0.8530, 0.7222, 0.7449, 0.8859, 0.5309, 0.5764, 0.9635,\n",
      "        0.9472, 0.6334, 0.8959, 0.5009, 0.6536, 0.6894, 0.9651, 0.9257, 0.7034,\n",
      "        0.9566, 0.9866], dtype=torch.float64)\n"
     ]
    },
    {
     "data": {
      "image/png": "[encoded data removed]",
      "text/plain": [
       "<Figure size 432x288 with 1 Axes>"
      ]
     },
     "metadata": {
      "needs_background": "light"
     },
     "output_type": "display_data"
    }
   ],
   "source": [
    "dataset = AdSBHDataset(N=20, threshold=0.0)\n",
    "plt.errorbar(dataset.L, dataset.V, yerr=dataset.sigma, fmt='.')\n",
    "plt.xlabel(f'$T L$')\n",
    "plt.ylabel(f'$V/T$')\n",
    "plt.ylim(-20, 2)\n",
    "print('L =', dataset.L)\n",
    "print('V =', dataset.V)\n",
    "print('sigma =', dataset.sigma)"
   ]
  },
  {
   "cell_type": "markdown",
   "id": "0f8a9fc5-78dc-4df2-9f19-b77310af6bb1",
   "metadata": {},
   "source": [
    "The model has the following parameters:  \n",
    "* `a`: list of numbers which determine the $f(z)$-metric component\n",
    "* `b`: list of numbers which determine the $g(z)$-metric component\n",
    "* `coef`: the number ($R^2/(2\\pi\\alpha'$)) which multiplies the quark potential $V$. This is set to $1.0$ by default in the toy dataset\n",
    "* `shift`: the constant shift of the potential $V$. This is set to $0.0$ by default in the toy dataset\n",
    "We don't have to bother right now with `coef` and `shift`. They are relevant when we start to work with real data where we do not necessarily know $R$ or $\\alpha'$ and the data might be shifted if it comes from a lattice simulation.\n",
    "\n",
    "The purpose of the model is to compute the potential for a given width. That is, $L_i \\mapsto V_i$. This calculation depends the above parameters.\n",
    "\n",
    "Let's choose a normal likelihood and prior for parameters:\n",
    "$$\n",
    "p(data|a,b) = \\prod_{i=1}^n \\frac{1}{\\sqrt{2\\pi}\\sigma_i}\\exp\\left(-\\frac{(V_i - V_i^{(pred)})^2}{2\\sigma_i^2}\\right) \\ ,\n",
    "$$\n",
    "where $V_i^{(pred)} = model(V_i)$ is the model predicted potential for quark separation $L_i$. Let's take a quite uninformative prior\n",
    "$$\n",
    "p(a,b) = \\prod_{i=1}^N p(a_i) p(b_i) \\\\\n",
    "p(a_i) = \\frac{1}{\\sqrt{2\\pi}\\sigma_i^{(a)}} \\exp\\left(-\\frac{a_i^2}{2(\\sigma_i^{(a)})^2}\\right) \\\\\n",
    "p(b_i) = \\frac{1}{\\sqrt{2\\pi}\\sigma_i^{(b)}} \\exp\\left(-\\frac{b_i^2}{2(\\sigma_i^{(b)})^2}\\right) \\ ,\n",
    "$$\n",
    "where we set $\\sigma_i^{(a)} = \\sigma_i^{(b)} = 1$, so that the priors are centered around zero. These priors are for each component of $a$ and $b$ separately."
   ]
  },
  {
   "cell_type": "code",
   "execution_count": 7,
   "id": "1fceb78a-5995-4453-bf90-182ad4ca123a",
   "metadata": {
    "execution": {
     "iopub.execute_input": "2022-08-23T06:17:36.894569Z",
     "iopub.status.busy": "2022-08-23T06:17:36.894234Z",
     "iopub.status.idle": "2022-08-23T06:17:36.898108Z",
     "shell.execute_reply": "2022-08-23T06:17:36.897766Z",
     "shell.execute_reply.started": "2022-08-23T06:17:36.894546Z"
    },
    "tags": []
   },
   "outputs": [],
   "source": [
    "def log_likelihood(a, b, logcoef, shift):\n",
    "    try:\n",
    "        # Predict potentials for dataset separations\n",
    "        V_pred = predict(a, b, logcoef, shift, dataset.L)\n",
    "    except AssertionError:\n",
    "        # If we are in an illegal part of the parameter space, let's  return -inf\n",
    "        # instead of raising an exception because it signals `find_reasonable_epsilon`\n",
    "        # that those values are bad.\n",
    "        return as_tensor(float('-inf'))\n",
    "    # Compute the log likelihood (omitting constants)\n",
    "    log_likelihood = -torch.sum((V_pred - dataset.V)**2 / (2 * dataset.sigma**2))\n",
    "    return log_likelihood"
   ]
  },
  {
   "cell_type": "code",
   "execution_count": 8,
   "id": "a4c6f7a9-e850-4c15-a158-09aa50b77a91",
   "metadata": {
    "execution": {
     "iopub.execute_input": "2022-08-23T06:17:37.998990Z",
     "iopub.status.busy": "2022-08-23T06:17:37.998547Z",
     "iopub.status.idle": "2022-08-23T06:17:38.003813Z",
     "shell.execute_reply": "2022-08-23T06:17:38.003338Z",
     "shell.execute_reply.started": "2022-08-23T06:17:37.998966Z"
    },
    "tags": []
   },
   "outputs": [],
   "source": [
    "N = 1\n",
    "\n",
    "def target(theta):\n",
    "    assert theta.shape == (2 * N + 2,)\n",
    "    # Parameter values\n",
    "    a = theta[:N]\n",
    "    b = theta[N:2 * N]\n",
    "    logcoef = theta[2 * N]\n",
    "    shift = theta[2 * N + 1]\n",
    "    ll = log_likelihood(a, b, logcoef, shift)\n",
    "    # Compute the log prior (omitting constants)\n",
    "    prior_sigma = 1\n",
    "    log_prior = (-torch.sum(a**2 + b**2) - logcoef**2 - shift**2) / (2 * prior_sigma**2)\n",
    "    # Return the total log posterior probability (again omitting constants)\n",
    "    return ll + log_prior"
   ]
  },
  {
   "cell_type": "code",
   "execution_count": 9,
   "id": "aeaeb343-72be-436a-bbe9-2266fb4e8f40",
   "metadata": {
    "execution": {
     "iopub.execute_input": "2022-08-23T06:17:38.379829Z",
     "iopub.status.busy": "2022-08-23T06:17:38.379269Z",
     "iopub.status.idle": "2022-08-23T06:17:38.447119Z",
     "shell.execute_reply": "2022-08-23T06:17:38.446656Z",
     "shell.execute_reply.started": "2022-08-23T06:17:38.379807Z"
    },
    "tags": []
   },
   "outputs": [
    {
     "data": {
      "text/plain": [
       "tensor(-1.5857e-08, dtype=torch.float64)"
      ]
     },
     "execution_count": 9,
     "metadata": {},
     "output_type": "execute_result"
    }
   ],
   "source": [
    "target(torch.tensor([0.0, 0.0, 0.0, 0.0]))"
   ]
  },
  {
   "cell_type": "code",
   "execution_count": 10,
   "id": "e2b0174c-2e37-49eb-a7b1-d34027fef05c",
   "metadata": {
    "execution": {
     "iopub.execute_input": "2022-08-23T06:17:39.222892Z",
     "iopub.status.busy": "2022-08-23T06:17:39.222372Z",
     "iopub.status.idle": "2022-08-23T06:17:39.293035Z",
     "shell.execute_reply": "2022-08-23T06:17:39.292601Z",
     "shell.execute_reply.started": "2022-08-23T06:17:39.222880Z"
    },
    "tags": []
   },
   "outputs": [
    {
     "data": {
      "text/plain": [
       "tensor(-6.7602, dtype=torch.float64)"
      ]
     },
     "execution_count": 10,
     "metadata": {},
     "output_type": "execute_result"
    }
   ],
   "source": [
    "target(torch.tensor([0.1, 0.1, 0.1, 0.1]))"
   ]
  },
  {
   "cell_type": "markdown",
   "id": "cb9582ca-1659-4dcd-a949-04994e819fed",
   "metadata": {},
   "source": [
    "Let's try sampling the posterior! This will be a lot slower than the example though."
   ]
  },
  {
   "cell_type": "code",
   "execution_count": 11,
   "id": "8338feee-f03d-4cef-af6f-542da7a73a20",
   "metadata": {
    "execution": {
     "iopub.execute_input": "2022-08-23T06:17:43.802068Z",
     "iopub.status.busy": "2022-08-23T06:17:43.801758Z",
     "iopub.status.idle": "2022-08-23T07:00:28.553569Z",
     "shell.execute_reply": "2022-08-23T07:00:28.553196Z",
     "shell.execute_reply.started": "2022-08-23T06:17:43.802045Z"
    },
    "tags": []
   },
   "outputs": [
    {
     "name": "stdout",
     "output_type": "stream",
     "text": [
      "find_reasonable_epsilon = 0.0625\n"
     ]
    },
    {
     "name": "stderr",
     "output_type": "stream",
     "text": [
      "100%|█████████████████████████████████████████████████████████████████████████████████████████████████████████████████████████████████████████████████████████████████████████████████████████████████████████████████████████████████████████████████| 1999/1999 [42:36<00:00,  1.28s/it]\n"
     ]
    },
    {
     "name": "stdout",
     "output_type": "stream",
     "text": [
      "Final epsilon = 0.07248450078898055\n",
      "samples.shape = torch.Size([1000, 4])\n"
     ]
    },
    {
     "data": {
      "image/png": "[encoded data removed]",
      "text/plain": [
       "<Figure size 720x360 with 2 Axes>"
      ]
     },
     "metadata": {
      "needs_background": "light"
     },
     "output_type": "display_data"
    }
   ],
   "source": [
    "theta_0 = torch.tensor([0.1, 0.1, 0.0, 0.0]) # Initial point for the sampler\n",
    "samples = nuts6(target, 1000, 1000, theta_0)\n",
    "print('samples.shape =', samples.shape)\n",
    "fig, axs = plt.subplots(1, 2, figsize=(10, 5))\n",
    "axs[0].scatter(*samples[:, :2].T, s=1)\n",
    "axs[0].set_xlabel(f'$a_1$')\n",
    "axs[0].set_ylabel(f'$b_1$')\n",
    "axs[1].scatter(*samples[:, 2:].T, s=1)\n",
    "axs[1].set_xlabel('logcoef')\n",
    "axs[1].set_ylabel('shift');"
   ]
  },
  {
   "cell_type": "code",
   "execution_count": 12,
   "id": "01178be3-d256-45a6-81db-db80c9deb025",
   "metadata": {
    "execution": {
     "iopub.execute_input": "2022-08-23T07:03:41.209277Z",
     "iopub.status.busy": "2022-08-23T07:03:41.209104Z",
     "iopub.status.idle": "2022-08-23T07:03:41.213559Z",
     "shell.execute_reply": "2022-08-23T07:03:41.213001Z",
     "shell.execute_reply.started": "2022-08-23T07:03:41.209266Z"
    }
   },
   "outputs": [
    {
     "data": {
      "text/plain": [
       "tensor([ 0.1938,  0.0967, -0.0492,  0.0074], dtype=torch.float64)"
      ]
     },
     "execution_count": 12,
     "metadata": {},
     "output_type": "execute_result"
    }
   ],
   "source": [
    "samples.mean(axis=0)"
   ]
  },
  {
   "cell_type": "markdown",
   "id": "c527da3c-bf55-46ce-8f65-830e8a0426c0",
   "metadata": {},
   "source": [
    "These means seem reasonable: both `logcoef` and `shift` are close to zero which is their true value in the dataset. Values for `a` and `b` are also quite close to zero, maybe with a slight bias to the positive side. This could be explained by the fact that their distributions are skewed to the positive side because the $a_1 < -1$/$b_1 < -1$ region corresponds to illegal configurations of the metric."
   ]
  },
  {
   "cell_type": "code",
   "execution_count": null,
   "id": "f398c58a-5743-4533-a59f-f2f88a0b7e41",
   "metadata": {},
   "outputs": [],
   "source": []
  }
 ],
 "metadata": {
  "kernelspec": {
   "display_name": "Python 3 (ipykernel)",
   "language": "python",
   "name": "python3"
  },
  "language_info": {
   "codemirror_mode": {
    "name": "ipython",
    "version": 3
   },
   "file_extension": ".py",
   "mimetype": "text/x-python",
   "name": "python",
   "nbconvert_exporter": "python",
   "pygments_lexer": "ipython3",
   "version": "3.10.5"
  }
 },
 "nbformat": 4,
 "nbformat_minor": 5
}
