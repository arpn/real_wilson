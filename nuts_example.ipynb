{
 "cells": [
  {
   "cell_type": "markdown",
   "id": "bc3bd8c6-bbcf-44fa-b289-a66341fc7620",
   "metadata": {},
   "source": [
    "# Example of using NUTS"
   ]
  },
  {
   "cell_type": "code",
   "execution_count": 1,
   "id": "fdbd687e-2d49-4711-9774-c1598789127c",
   "metadata": {
    "execution": {
     "iopub.execute_input": "2022-08-14T19:46:02.611966Z",
     "iopub.status.busy": "2022-08-14T19:46:02.611564Z",
     "iopub.status.idle": "2022-08-14T19:46:03.361813Z",
     "shell.execute_reply": "2022-08-14T19:46:03.361355Z",
     "shell.execute_reply.started": "2022-08-14T19:46:02.611902Z"
    },
    "tags": []
   },
   "outputs": [],
   "source": [
    "import torch\n",
    "import numpy as np\n",
    "import matplotlib.pyplot as plt\n",
    "from nuts_pytorch import nuts6"
   ]
  },
  {
   "cell_type": "markdown",
   "id": "17164105-25e7-4727-abcf-9d7cb5ffc115",
   "metadata": {
    "tags": []
   },
   "source": [
    "## Toy example\n",
    "\n",
    "As an example let's choose the following two-dimensional target distribution\n",
    "$$ p(x, y) = \\exp\\left( -20(y - x^2 - x - 1)^2 - x^2 \\right). $$\n",
    "This is a notoriously difficult distribution to sample, often used as a benchmark for sampling methods. For example, with plain Markov Chain Monte Carlo you'd have a bad time sampling this.\n",
    "\n",
    "The `nuts6` function needs the logarithm of the target probability density function (PDF)."
   ]
  },
  {
   "cell_type": "code",
   "execution_count": 2,
   "id": "d07f7c41-c8e5-4da8-86d0-cfbd806efd0a",
   "metadata": {
    "execution": {
     "iopub.execute_input": "2022-08-14T14:36:53.054483Z",
     "iopub.status.busy": "2022-08-14T14:36:53.054117Z",
     "iopub.status.idle": "2022-08-14T14:36:53.057508Z",
     "shell.execute_reply": "2022-08-14T14:36:53.057031Z",
     "shell.execute_reply.started": "2022-08-14T14:36:53.054471Z"
    },
    "tags": []
   },
   "outputs": [],
   "source": [
    "def target(theta):\n",
    "    '''\n",
    "    Arguments:\n",
    "    - theta: variables of the PDF\n",
    "    Returns:\n",
    "    Log of the target PDF\n",
    "    '''\n",
    "    x, y = theta[0], theta[1]\n",
    "    log_p = -20 * (y - x**2 - x - 1)**2 - x**2\n",
    "    return log_p"
   ]
  },
  {
   "cell_type": "markdown",
   "id": "cef1e973-e409-47d1-b5c2-4b9632316d8e",
   "metadata": {},
   "source": [
    "Draw $1000$ samples from this distribution"
   ]
  },
  {
   "cell_type": "code",
   "execution_count": 3,
   "id": "7d0ca7d1-0995-4abb-a13f-6cc3110b03ac",
   "metadata": {
    "execution": {
     "iopub.execute_input": "2022-08-14T14:36:53.957646Z",
     "iopub.status.busy": "2022-08-14T14:36:53.956929Z",
     "iopub.status.idle": "2022-08-14T14:37:13.126733Z",
     "shell.execute_reply": "2022-08-14T14:37:13.126343Z",
     "shell.execute_reply.started": "2022-08-14T14:36:53.957621Z"
    },
    "tags": []
   },
   "outputs": [
    {
     "name": "stdout",
     "output_type": "stream",
     "text": [
      "find_reasonable_epsilon = 0.25\n"
     ]
    },
    {
     "name": "stderr",
     "output_type": "stream",
     "text": [
      "100%|█████████████████████████████████████████████████████████████████████████████████████████████████████████████████████████████████████████████████████████████████████████████████████████████████████████████████████████████████████████████| 19999/19999 [00:18<00:00, 1068.29it/s]\n"
     ]
    },
    {
     "name": "stdout",
     "output_type": "stream",
     "text": [
      "Final epsilon = 0.18086340676200907\n",
      "samples.shape = torch.Size([10000, 2])\n"
     ]
    },
    {
     "data": {
      "text/plain": [
       "Text(0, 0.5, 'y')"
      ]
     },
     "execution_count": 3,
     "metadata": {},
     "output_type": "execute_result"
    },
    {
     "data": {
      "image/png": "[encoded data removed]",
      "text/plain": [
       "<Figure size 432x288 with 1 Axes>"
      ]
     },
     "metadata": {
      "needs_background": "light"
     },
     "output_type": "display_data"
    }
   ],
   "source": [
    "theta_0 = torch.tensor([0, 1]) # Initial point for the sampler\n",
    "samples = nuts6(target, 10000, 10000, theta_0)\n",
    "print('samples.shape =', samples.shape)\n",
    "plt.scatter(*samples.T, s=1)\n",
    "plt.xlabel('x')\n",
    "plt.ylabel('y')"
   ]
  },
  {
   "cell_type": "markdown",
   "id": "0434da14-4fba-4a3d-a299-f0fa7672390e",
   "metadata": {},
   "source": [
    "Now if you would plot the PDF you'd see that the samples cover the distribution nicely. Now we can compute, for example, the mean of the variables"
   ]
  },
  {
   "cell_type": "code",
   "execution_count": 4,
   "id": "7c9fe029-ea7d-4c41-a21a-6d43b7c1b9c8",
   "metadata": {
    "execution": {
     "iopub.execute_input": "2022-08-14T14:37:13.127613Z",
     "iopub.status.busy": "2022-08-14T14:37:13.127459Z",
     "iopub.status.idle": "2022-08-14T14:37:13.130742Z",
     "shell.execute_reply": "2022-08-14T14:37:13.130390Z",
     "shell.execute_reply.started": "2022-08-14T14:37:13.127601Z"
    },
    "tags": []
   },
   "outputs": [
    {
     "data": {
      "text/plain": [
       "tensor([0.0142, 1.4823], dtype=torch.float64)"
      ]
     },
     "execution_count": 4,
     "metadata": {},
     "output_type": "execute_result"
    }
   ],
   "source": [
    "samples.mean(axis=0)"
   ]
  },
  {
   "cell_type": "markdown",
   "id": "5ea9a278-4ef1-466e-811e-41aaf5353503",
   "metadata": {},
   "source": [
    "These would be the approximations to the true means $E[X]$ and $E[Y]$ if $(X,Y)$ followed the distribution $p(x,y)$."
   ]
  }
 ],
 "metadata": {
  "kernelspec": {
   "display_name": "Python 3 (ipykernel)",
   "language": "python",
   "name": "python3"
  },
  "language_info": {
   "codemirror_mode": {
    "name": "ipython",
    "version": 3
   },
   "file_extension": ".py",
   "mimetype": "text/x-python",
   "name": "python",
   "nbconvert_exporter": "python",
   "pygments_lexer": "ipython3",
   "version": "3.10.5"
  }
 },
 "nbformat": 4,
 "nbformat_minor": 5
}
